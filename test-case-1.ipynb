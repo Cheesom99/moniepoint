{
 "cells": [
  {
   "cell_type": "markdown",
   "id": "804ce2e8-6eea-42ce-a34d-1531c8571a3e",
   "metadata": {},
   "source": [
    "### Importing neccessary libraries"
   ]
  },
  {
   "cell_type": "code",
   "execution_count": 1,
   "id": "db4f356f-9973-42f2-8a05-f4375bdaf8bb",
   "metadata": {},
   "outputs": [],
   "source": [
    "import os\n",
    "import pandas as pd\n",
    "import numpy as np"
   ]
  },
  {
   "cell_type": "markdown",
   "id": "0b033f18-8df1-4eb7-b2fc-c60bc692ec3a",
   "metadata": {},
   "source": [
    "### My stored file path"
   ]
  },
  {
   "cell_type": "code",
   "execution_count": 2,
   "id": "9abf2281-7234-45ac-9892-f76760a203fc",
   "metadata": {},
   "outputs": [],
   "source": [
    "dir_path='C:/Users/Chisom/Documents/Moniepoint/test-case-1'\n",
    "files=os.listdir(dir_path)"
   ]
  },
  {
   "cell_type": "markdown",
   "id": "40337e94-10c8-4af2-8971-853aa6e0fe23",
   "metadata": {},
   "source": [
    "## 1) Highest sales volume in a day"
   ]
  },
  {
   "cell_type": "code",
   "execution_count": 3,
   "id": "cd58a138-3d6a-437d-baab-effc9f37102b",
   "metadata": {},
   "outputs": [],
   "source": [
    "sales_vol=[]"
   ]
  },
  {
   "cell_type": "code",
   "execution_count": 4,
   "id": "f0608ab0-5282-47f2-8549-2f85d54af50b",
   "metadata": {},
   "outputs": [],
   "source": [
    "# Find the len of each file, each line corresponds to the number of sales that day and append each instance to the sales_vol list\n",
    "for file in files:\n",
    "    df=pd.read_csv(f\"C:/Users/Chisom/Documents/Moniepoint/test-case-1/{file}\",delimiter=',', header=None)\n",
    "    sales_vol_value=len(df)\n",
    "    sales_vol.append(sales_vol_value)"
   ]
  },
  {
   "cell_type": "code",
   "execution_count": 5,
   "id": "2a148c76-2360-411f-944c-df493fbadfdb",
   "metadata": {},
   "outputs": [],
   "source": [
    "# Get a dataframe mapping the files to their sales volume (len)\n",
    "sales_vol_df=pd.DataFrame({'Date':files,'Sales_vol':sales_vol})"
   ]
  },
  {
   "cell_type": "markdown",
   "id": "9e49abe7-5f2c-46a9-8726-302d1d7c5612",
   "metadata": {},
   "source": [
    "#### 2025-10-10 is the day with the highest sales volume, with 999 sales that day"
   ]
  },
  {
   "cell_type": "code",
   "execution_count": 6,
   "id": "03fe0352-69f2-4c00-a413-74ad484962c9",
   "metadata": {},
   "outputs": [
    {
     "data": {
      "text/html": [
       "<div>\n",
       "<style scoped>\n",
       "    .dataframe tbody tr th:only-of-type {\n",
       "        vertical-align: middle;\n",
       "    }\n",
       "\n",
       "    .dataframe tbody tr th {\n",
       "        vertical-align: top;\n",
       "    }\n",
       "\n",
       "    .dataframe thead th {\n",
       "        text-align: right;\n",
       "    }\n",
       "</style>\n",
       "<table border=\"1\" class=\"dataframe\">\n",
       "  <thead>\n",
       "    <tr style=\"text-align: right;\">\n",
       "      <th></th>\n",
       "      <th>Date</th>\n",
       "      <th>Sales_vol</th>\n",
       "    </tr>\n",
       "  </thead>\n",
       "  <tbody>\n",
       "    <tr>\n",
       "      <th>282</th>\n",
       "      <td>2025-10-10.txt</td>\n",
       "      <td>999</td>\n",
       "    </tr>\n",
       "    <tr>\n",
       "      <th>168</th>\n",
       "      <td>2025-06-18.txt</td>\n",
       "      <td>998</td>\n",
       "    </tr>\n",
       "  </tbody>\n",
       "</table>\n",
       "</div>"
      ],
      "text/plain": [
       "               Date  Sales_vol\n",
       "282  2025-10-10.txt        999\n",
       "168  2025-06-18.txt        998"
      ]
     },
     "execution_count": 6,
     "metadata": {},
     "output_type": "execute_result"
    }
   ],
   "source": [
    "# Sort the sales volume so the biggest value is top\n",
    "sales_vol_df.sort_values('Sales_vol',ascending=False).head(2)"
   ]
  },
  {
   "cell_type": "markdown",
   "id": "7327cb59-f6ba-4390-9f4d-70ff3ad0aba6",
   "metadata": {},
   "source": [
    "## 2)Highest sales value in a day"
   ]
  },
  {
   "cell_type": "code",
   "execution_count": 7,
   "id": "e4b1f49f-1908-44fe-bb84-b18ac217e99a",
   "metadata": {},
   "outputs": [],
   "source": [
    "sales_value=[]"
   ]
  },
  {
   "cell_type": "code",
   "execution_count": 8,
   "id": "fcebd423-6f23-4ce0-8d19-ef2e3391d210",
   "metadata": {},
   "outputs": [],
   "source": [
    "# For each day, get the sales value column and then get the total sales value for that day and then save to the sales_value list\n",
    "for file in files:\n",
    "    df=pd.read_csv(f\"C:/Users/Chisom/Documents/Moniepoint/test-case-1/{file}\",delimiter=',', header=None)\n",
    "    sales_value_col=list(df[3])\n",
    "    total_value=sum(sales_value_col)\n",
    "    sales_value.append(total_value)"
   ]
  },
  {
   "cell_type": "code",
   "execution_count": 9,
   "id": "2c7872ce-2118-4cbe-9ea4-a0b511d0249b",
   "metadata": {},
   "outputs": [],
   "source": [
    "# Get a dataframe mapping the files (each day) to their sales value\n",
    "sales_value_df=pd.DataFrame({'Date':files,'Sales_value':sales_value})"
   ]
  },
  {
   "cell_type": "markdown",
   "id": "c8a50d9f-3ab1-4095-9f13-9db65f764b81",
   "metadata": {},
   "source": [
    "#### 2025-01-28 is the day with the highest sales value worth about 25325300"
   ]
  },
  {
   "cell_type": "code",
   "execution_count": 10,
   "id": "6ef8aab4-9dca-4d9e-a465-cddf366135f3",
   "metadata": {},
   "outputs": [
    {
     "data": {
      "text/html": [
       "<div>\n",
       "<style scoped>\n",
       "    .dataframe tbody tr th:only-of-type {\n",
       "        vertical-align: middle;\n",
       "    }\n",
       "\n",
       "    .dataframe tbody tr th {\n",
       "        vertical-align: top;\n",
       "    }\n",
       "\n",
       "    .dataframe thead th {\n",
       "        text-align: right;\n",
       "    }\n",
       "</style>\n",
       "<table border=\"1\" class=\"dataframe\">\n",
       "  <thead>\n",
       "    <tr style=\"text-align: right;\">\n",
       "      <th></th>\n",
       "      <th>Date</th>\n",
       "      <th>Sales_value</th>\n",
       "    </tr>\n",
       "  </thead>\n",
       "  <tbody>\n",
       "    <tr>\n",
       "      <th>27</th>\n",
       "      <td>2025-01-28.txt</td>\n",
       "      <td>2.532530e+07</td>\n",
       "    </tr>\n",
       "    <tr>\n",
       "      <th>106</th>\n",
       "      <td>2025-04-17.txt</td>\n",
       "      <td>2.527651e+07</td>\n",
       "    </tr>\n",
       "  </tbody>\n",
       "</table>\n",
       "</div>"
      ],
      "text/plain": [
       "               Date   Sales_value\n",
       "27   2025-01-28.txt  2.532530e+07\n",
       "106  2025-04-17.txt  2.527651e+07"
      ]
     },
     "execution_count": 10,
     "metadata": {},
     "output_type": "execute_result"
    }
   ],
   "source": [
    "# Sort the sales volume so the biggest value is top\n",
    "sales_value_df.sort_values('Sales_value',ascending=False).head(2)"
   ]
  },
  {
   "cell_type": "markdown",
   "id": "eee34dee-1991-4634-bd00-76f0cd8e8dac",
   "metadata": {},
   "source": [
    "## 3) Highest sales staff ID for each month"
   ]
  },
  {
   "cell_type": "code",
   "execution_count": 11,
   "id": "40ca78b3-deab-4d9a-8b04-3d9490fe5acc",
   "metadata": {},
   "outputs": [],
   "source": [
    "staff_sales_df=pd.DataFrame()"
   ]
  },
  {
   "cell_type": "code",
   "execution_count": 12,
   "id": "fa4be713-1ec9-4132-a8c1-111240d9e442",
   "metadata": {},
   "outputs": [],
   "source": [
    "# Read the staff_id,timedate and sales value into one dataframe\n",
    "for file in files:\n",
    "    df=pd.read_csv(f\"C:/Users/Chisom/Documents/Moniepoint/test-case-1/{file}\",delimiter=',', header=None)\n",
    "    df=df[[0,1,3]]\n",
    "    df.rename(columns={0:'staff_id',1:'timedate',3:'sales_value'},inplace=True)\n",
    "    staff_sales_df=pd.concat([staff_sales_df,df],ignore_index=True)"
   ]
  },
  {
   "cell_type": "code",
   "execution_count": 13,
   "id": "6bd8ced0-4f4a-4dba-843a-f6057e5985df",
   "metadata": {},
   "outputs": [],
   "source": [
    "# Extracting the month column from the timedate column, then I drop the timedate column\n",
    "staff_sales_df['month']=staff_sales_df['timedate'].str[5:7].astype(int)\n",
    "staff_sales_df=staff_sales_df[['staff_id','sales_value','month']]"
   ]
  },
  {
   "cell_type": "code",
   "execution_count": 14,
   "id": "a7f3c5f9-679c-4a37-9411-314820a32633",
   "metadata": {
    "scrolled": true
   },
   "outputs": [
    {
     "data": {
      "text/html": [
       "<div>\n",
       "<style scoped>\n",
       "    .dataframe tbody tr th:only-of-type {\n",
       "        vertical-align: middle;\n",
       "    }\n",
       "\n",
       "    .dataframe tbody tr th {\n",
       "        vertical-align: top;\n",
       "    }\n",
       "\n",
       "    .dataframe thead th {\n",
       "        text-align: right;\n",
       "    }\n",
       "</style>\n",
       "<table border=\"1\" class=\"dataframe\">\n",
       "  <thead>\n",
       "    <tr style=\"text-align: right;\">\n",
       "      <th></th>\n",
       "      <th>staff_id</th>\n",
       "      <th>sales_value</th>\n",
       "      <th>month</th>\n",
       "    </tr>\n",
       "  </thead>\n",
       "  <tbody>\n",
       "    <tr>\n",
       "      <th>0</th>\n",
       "      <td>8</td>\n",
       "      <td>30160.973</td>\n",
       "      <td>1</td>\n",
       "    </tr>\n",
       "    <tr>\n",
       "      <th>1</th>\n",
       "      <td>7</td>\n",
       "      <td>21115.795</td>\n",
       "      <td>1</td>\n",
       "    </tr>\n",
       "    <tr>\n",
       "      <th>2</th>\n",
       "      <td>8</td>\n",
       "      <td>29430.205</td>\n",
       "      <td>1</td>\n",
       "    </tr>\n",
       "    <tr>\n",
       "      <th>3</th>\n",
       "      <td>3</td>\n",
       "      <td>71913.089</td>\n",
       "      <td>1</td>\n",
       "    </tr>\n",
       "    <tr>\n",
       "      <th>4</th>\n",
       "      <td>4</td>\n",
       "      <td>21153.156</td>\n",
       "      <td>1</td>\n",
       "    </tr>\n",
       "    <tr>\n",
       "      <th>...</th>\n",
       "      <td>...</td>\n",
       "      <td>...</td>\n",
       "      <td>...</td>\n",
       "    </tr>\n",
       "    <tr>\n",
       "      <th>204119</th>\n",
       "      <td>8</td>\n",
       "      <td>1174.526</td>\n",
       "      <td>12</td>\n",
       "    </tr>\n",
       "    <tr>\n",
       "      <th>204120</th>\n",
       "      <td>1</td>\n",
       "      <td>13998.595</td>\n",
       "      <td>12</td>\n",
       "    </tr>\n",
       "    <tr>\n",
       "      <th>204121</th>\n",
       "      <td>2</td>\n",
       "      <td>18828.245</td>\n",
       "      <td>12</td>\n",
       "    </tr>\n",
       "    <tr>\n",
       "      <th>204122</th>\n",
       "      <td>1</td>\n",
       "      <td>2433.000</td>\n",
       "      <td>12</td>\n",
       "    </tr>\n",
       "    <tr>\n",
       "      <th>204123</th>\n",
       "      <td>2</td>\n",
       "      <td>28672.877</td>\n",
       "      <td>12</td>\n",
       "    </tr>\n",
       "  </tbody>\n",
       "</table>\n",
       "<p>204124 rows × 3 columns</p>\n",
       "</div>"
      ],
      "text/plain": [
       "        staff_id  sales_value  month\n",
       "0              8    30160.973      1\n",
       "1              7    21115.795      1\n",
       "2              8    29430.205      1\n",
       "3              3    71913.089      1\n",
       "4              4    21153.156      1\n",
       "...          ...          ...    ...\n",
       "204119         8     1174.526     12\n",
       "204120         1    13998.595     12\n",
       "204121         2    18828.245     12\n",
       "204122         1     2433.000     12\n",
       "204123         2    28672.877     12\n",
       "\n",
       "[204124 rows x 3 columns]"
      ]
     },
     "execution_count": 14,
     "metadata": {},
     "output_type": "execute_result"
    }
   ],
   "source": [
    "staff_sales_df"
   ]
  },
  {
   "cell_type": "code",
   "execution_count": 15,
   "id": "47ae6a9a-0185-48d6-8432-0d2984b498ef",
   "metadata": {},
   "outputs": [],
   "source": [
    "# Making smaller dataframes corresponding to the appropriate months\n",
    "jan=staff_sales_df.loc[staff_sales_df['month']==1]\n",
    "feb=staff_sales_df.loc[staff_sales_df['month']==2]\n",
    "mar=staff_sales_df.loc[staff_sales_df['month']==3]\n",
    "apr=staff_sales_df.loc[staff_sales_df['month']==4]\n",
    "may=staff_sales_df.loc[staff_sales_df['month']==5]\n",
    "june=staff_sales_df.loc[staff_sales_df['month']==6]\n",
    "july=staff_sales_df.loc[staff_sales_df['month']==7]\n",
    "aug=staff_sales_df.loc[staff_sales_df['month']==8]\n",
    "sept=staff_sales_df.loc[staff_sales_df['month']==9]\n",
    "october=staff_sales_df.loc[staff_sales_df['month']==10]\n",
    "nov=staff_sales_df.loc[staff_sales_df['month']==11]\n",
    "dec=staff_sales_df.loc[staff_sales_df['month']==12]"
   ]
  },
  {
   "cell_type": "code",
   "execution_count": 16,
   "id": "ce162564-5cf5-42e3-b73f-85caab63bc7b",
   "metadata": {},
   "outputs": [
    {
     "data": {
      "text/html": [
       "<div>\n",
       "<style scoped>\n",
       "    .dataframe tbody tr th:only-of-type {\n",
       "        vertical-align: middle;\n",
       "    }\n",
       "\n",
       "    .dataframe tbody tr th {\n",
       "        vertical-align: top;\n",
       "    }\n",
       "\n",
       "    .dataframe thead th {\n",
       "        text-align: right;\n",
       "    }\n",
       "</style>\n",
       "<table border=\"1\" class=\"dataframe\">\n",
       "  <thead>\n",
       "    <tr style=\"text-align: right;\">\n",
       "      <th></th>\n",
       "      <th></th>\n",
       "      <th>sales_value</th>\n",
       "    </tr>\n",
       "    <tr>\n",
       "      <th>month</th>\n",
       "      <th>staff_id</th>\n",
       "      <th></th>\n",
       "    </tr>\n",
       "  </thead>\n",
       "  <tbody>\n",
       "    <tr>\n",
       "      <th rowspan=\"2\" valign=\"top\">1</th>\n",
       "      <th>1</th>\n",
       "      <td>4.781945e+07</td>\n",
       "    </tr>\n",
       "    <tr>\n",
       "      <th>8</th>\n",
       "      <td>4.779696e+07</td>\n",
       "    </tr>\n",
       "  </tbody>\n",
       "</table>\n",
       "</div>"
      ],
      "text/plain": [
       "                 sales_value\n",
       "month staff_id              \n",
       "1     1         4.781945e+07\n",
       "      8         4.779696e+07"
      ]
     },
     "execution_count": 16,
     "metadata": {},
     "output_type": "execute_result"
    }
   ],
   "source": [
    "jan.groupby(['month','staff_id']).sum().sort_values('sales_value',ascending=False).head(2)"
   ]
  },
  {
   "cell_type": "code",
   "execution_count": 17,
   "id": "97fa7b33-a58b-469b-af75-718064328fd3",
   "metadata": {},
   "outputs": [
    {
     "data": {
      "text/html": [
       "<div>\n",
       "<style scoped>\n",
       "    .dataframe tbody tr th:only-of-type {\n",
       "        vertical-align: middle;\n",
       "    }\n",
       "\n",
       "    .dataframe tbody tr th {\n",
       "        vertical-align: top;\n",
       "    }\n",
       "\n",
       "    .dataframe thead th {\n",
       "        text-align: right;\n",
       "    }\n",
       "</style>\n",
       "<table border=\"1\" class=\"dataframe\">\n",
       "  <thead>\n",
       "    <tr style=\"text-align: right;\">\n",
       "      <th></th>\n",
       "      <th></th>\n",
       "      <th>sales_value</th>\n",
       "    </tr>\n",
       "    <tr>\n",
       "      <th>month</th>\n",
       "      <th>staff_id</th>\n",
       "      <th></th>\n",
       "    </tr>\n",
       "  </thead>\n",
       "  <tbody>\n",
       "    <tr>\n",
       "      <th rowspan=\"2\" valign=\"top\">2</th>\n",
       "      <th>7</th>\n",
       "      <td>4.316292e+07</td>\n",
       "    </tr>\n",
       "    <tr>\n",
       "      <th>6</th>\n",
       "      <td>4.183651e+07</td>\n",
       "    </tr>\n",
       "  </tbody>\n",
       "</table>\n",
       "</div>"
      ],
      "text/plain": [
       "                 sales_value\n",
       "month staff_id              \n",
       "2     7         4.316292e+07\n",
       "      6         4.183651e+07"
      ]
     },
     "execution_count": 17,
     "metadata": {},
     "output_type": "execute_result"
    }
   ],
   "source": [
    "feb.groupby(['month','staff_id']).sum().sort_values('sales_value',ascending=False).head(2)"
   ]
  },
  {
   "cell_type": "code",
   "execution_count": 18,
   "id": "9f05d11e-e2ed-4ed8-9f7d-6ef8e56eaf06",
   "metadata": {},
   "outputs": [
    {
     "data": {
      "text/html": [
       "<div>\n",
       "<style scoped>\n",
       "    .dataframe tbody tr th:only-of-type {\n",
       "        vertical-align: middle;\n",
       "    }\n",
       "\n",
       "    .dataframe tbody tr th {\n",
       "        vertical-align: top;\n",
       "    }\n",
       "\n",
       "    .dataframe thead th {\n",
       "        text-align: right;\n",
       "    }\n",
       "</style>\n",
       "<table border=\"1\" class=\"dataframe\">\n",
       "  <thead>\n",
       "    <tr style=\"text-align: right;\">\n",
       "      <th></th>\n",
       "      <th></th>\n",
       "      <th>sales_value</th>\n",
       "    </tr>\n",
       "    <tr>\n",
       "      <th>month</th>\n",
       "      <th>staff_id</th>\n",
       "      <th></th>\n",
       "    </tr>\n",
       "  </thead>\n",
       "  <tbody>\n",
       "    <tr>\n",
       "      <th rowspan=\"2\" valign=\"top\">3</th>\n",
       "      <th>7</th>\n",
       "      <td>5.164356e+07</td>\n",
       "    </tr>\n",
       "    <tr>\n",
       "      <th>5</th>\n",
       "      <td>5.155085e+07</td>\n",
       "    </tr>\n",
       "  </tbody>\n",
       "</table>\n",
       "</div>"
      ],
      "text/plain": [
       "                 sales_value\n",
       "month staff_id              \n",
       "3     7         5.164356e+07\n",
       "      5         5.155085e+07"
      ]
     },
     "execution_count": 18,
     "metadata": {},
     "output_type": "execute_result"
    }
   ],
   "source": [
    "mar.groupby(['month','staff_id']).sum().sort_values('sales_value',ascending=False).head(2)"
   ]
  },
  {
   "cell_type": "code",
   "execution_count": 19,
   "id": "93ddf790-9831-45c9-94d6-39cc9d86bcbf",
   "metadata": {},
   "outputs": [
    {
     "data": {
      "text/html": [
       "<div>\n",
       "<style scoped>\n",
       "    .dataframe tbody tr th:only-of-type {\n",
       "        vertical-align: middle;\n",
       "    }\n",
       "\n",
       "    .dataframe tbody tr th {\n",
       "        vertical-align: top;\n",
       "    }\n",
       "\n",
       "    .dataframe thead th {\n",
       "        text-align: right;\n",
       "    }\n",
       "</style>\n",
       "<table border=\"1\" class=\"dataframe\">\n",
       "  <thead>\n",
       "    <tr style=\"text-align: right;\">\n",
       "      <th></th>\n",
       "      <th></th>\n",
       "      <th>sales_value</th>\n",
       "    </tr>\n",
       "    <tr>\n",
       "      <th>month</th>\n",
       "      <th>staff_id</th>\n",
       "      <th></th>\n",
       "    </tr>\n",
       "  </thead>\n",
       "  <tbody>\n",
       "    <tr>\n",
       "      <th rowspan=\"2\" valign=\"top\">4</th>\n",
       "      <th>4</th>\n",
       "      <td>5.179796e+07</td>\n",
       "    </tr>\n",
       "    <tr>\n",
       "      <th>2</th>\n",
       "      <td>5.117162e+07</td>\n",
       "    </tr>\n",
       "  </tbody>\n",
       "</table>\n",
       "</div>"
      ],
      "text/plain": [
       "                 sales_value\n",
       "month staff_id              \n",
       "4     4         5.179796e+07\n",
       "      2         5.117162e+07"
      ]
     },
     "execution_count": 19,
     "metadata": {},
     "output_type": "execute_result"
    }
   ],
   "source": [
    "apr.groupby(['month','staff_id']).sum().sort_values('sales_value',ascending=False).head(2)"
   ]
  },
  {
   "cell_type": "code",
   "execution_count": 20,
   "id": "96d87278-19cb-4727-84ad-a93a24f55175",
   "metadata": {},
   "outputs": [
    {
     "data": {
      "text/html": [
       "<div>\n",
       "<style scoped>\n",
       "    .dataframe tbody tr th:only-of-type {\n",
       "        vertical-align: middle;\n",
       "    }\n",
       "\n",
       "    .dataframe tbody tr th {\n",
       "        vertical-align: top;\n",
       "    }\n",
       "\n",
       "    .dataframe thead th {\n",
       "        text-align: right;\n",
       "    }\n",
       "</style>\n",
       "<table border=\"1\" class=\"dataframe\">\n",
       "  <thead>\n",
       "    <tr style=\"text-align: right;\">\n",
       "      <th></th>\n",
       "      <th></th>\n",
       "      <th>sales_value</th>\n",
       "    </tr>\n",
       "    <tr>\n",
       "      <th>month</th>\n",
       "      <th>staff_id</th>\n",
       "      <th></th>\n",
       "    </tr>\n",
       "  </thead>\n",
       "  <tbody>\n",
       "    <tr>\n",
       "      <th rowspan=\"2\" valign=\"top\">5</th>\n",
       "      <th>5</th>\n",
       "      <td>5.019596e+07</td>\n",
       "    </tr>\n",
       "    <tr>\n",
       "      <th>6</th>\n",
       "      <td>4.950653e+07</td>\n",
       "    </tr>\n",
       "  </tbody>\n",
       "</table>\n",
       "</div>"
      ],
      "text/plain": [
       "                 sales_value\n",
       "month staff_id              \n",
       "5     5         5.019596e+07\n",
       "      6         4.950653e+07"
      ]
     },
     "execution_count": 20,
     "metadata": {},
     "output_type": "execute_result"
    }
   ],
   "source": [
    "may.groupby(['month','staff_id']).sum().sort_values('sales_value',ascending=False).head(2)"
   ]
  },
  {
   "cell_type": "code",
   "execution_count": 22,
   "id": "9f5157c6-516a-41e6-a4b8-4da49bab2081",
   "metadata": {},
   "outputs": [
    {
     "data": {
      "text/html": [
       "<div>\n",
       "<style scoped>\n",
       "    .dataframe tbody tr th:only-of-type {\n",
       "        vertical-align: middle;\n",
       "    }\n",
       "\n",
       "    .dataframe tbody tr th {\n",
       "        vertical-align: top;\n",
       "    }\n",
       "\n",
       "    .dataframe thead th {\n",
       "        text-align: right;\n",
       "    }\n",
       "</style>\n",
       "<table border=\"1\" class=\"dataframe\">\n",
       "  <thead>\n",
       "    <tr style=\"text-align: right;\">\n",
       "      <th></th>\n",
       "      <th></th>\n",
       "      <th>sales_value</th>\n",
       "    </tr>\n",
       "    <tr>\n",
       "      <th>month</th>\n",
       "      <th>staff_id</th>\n",
       "      <th></th>\n",
       "    </tr>\n",
       "  </thead>\n",
       "  <tbody>\n",
       "    <tr>\n",
       "      <th rowspan=\"2\" valign=\"top\">6</th>\n",
       "      <th>9</th>\n",
       "      <td>4.902739e+07</td>\n",
       "    </tr>\n",
       "    <tr>\n",
       "      <th>4</th>\n",
       "      <td>4.788711e+07</td>\n",
       "    </tr>\n",
       "  </tbody>\n",
       "</table>\n",
       "</div>"
      ],
      "text/plain": [
       "                 sales_value\n",
       "month staff_id              \n",
       "6     9         4.902739e+07\n",
       "      4         4.788711e+07"
      ]
     },
     "execution_count": 22,
     "metadata": {},
     "output_type": "execute_result"
    }
   ],
   "source": [
    "june.groupby(['month','staff_id']).sum().sort_values('sales_value',ascending=False).head(2)"
   ]
  },
  {
   "cell_type": "code",
   "execution_count": 24,
   "id": "3375cb10-09db-409e-a850-b20eaa05581a",
   "metadata": {},
   "outputs": [
    {
     "data": {
      "text/html": [
       "<div>\n",
       "<style scoped>\n",
       "    .dataframe tbody tr th:only-of-type {\n",
       "        vertical-align: middle;\n",
       "    }\n",
       "\n",
       "    .dataframe tbody tr th {\n",
       "        vertical-align: top;\n",
       "    }\n",
       "\n",
       "    .dataframe thead th {\n",
       "        text-align: right;\n",
       "    }\n",
       "</style>\n",
       "<table border=\"1\" class=\"dataframe\">\n",
       "  <thead>\n",
       "    <tr style=\"text-align: right;\">\n",
       "      <th></th>\n",
       "      <th></th>\n",
       "      <th>sales_value</th>\n",
       "    </tr>\n",
       "    <tr>\n",
       "      <th>month</th>\n",
       "      <th>staff_id</th>\n",
       "      <th></th>\n",
       "    </tr>\n",
       "  </thead>\n",
       "  <tbody>\n",
       "    <tr>\n",
       "      <th rowspan=\"2\" valign=\"top\">7</th>\n",
       "      <th>4</th>\n",
       "      <td>4.981589e+07</td>\n",
       "    </tr>\n",
       "    <tr>\n",
       "      <th>5</th>\n",
       "      <td>4.858197e+07</td>\n",
       "    </tr>\n",
       "  </tbody>\n",
       "</table>\n",
       "</div>"
      ],
      "text/plain": [
       "                 sales_value\n",
       "month staff_id              \n",
       "7     4         4.981589e+07\n",
       "      5         4.858197e+07"
      ]
     },
     "execution_count": 24,
     "metadata": {},
     "output_type": "execute_result"
    }
   ],
   "source": [
    "july.groupby(['month','staff_id']).sum().sort_values('sales_value',ascending=False).head(2)"
   ]
  },
  {
   "cell_type": "code",
   "execution_count": 25,
   "id": "42676d08-5210-45b8-8962-8cf4a33b2c1d",
   "metadata": {},
   "outputs": [
    {
     "data": {
      "text/html": [
       "<div>\n",
       "<style scoped>\n",
       "    .dataframe tbody tr th:only-of-type {\n",
       "        vertical-align: middle;\n",
       "    }\n",
       "\n",
       "    .dataframe tbody tr th {\n",
       "        vertical-align: top;\n",
       "    }\n",
       "\n",
       "    .dataframe thead th {\n",
       "        text-align: right;\n",
       "    }\n",
       "</style>\n",
       "<table border=\"1\" class=\"dataframe\">\n",
       "  <thead>\n",
       "    <tr style=\"text-align: right;\">\n",
       "      <th></th>\n",
       "      <th></th>\n",
       "      <th>sales_value</th>\n",
       "    </tr>\n",
       "    <tr>\n",
       "      <th>month</th>\n",
       "      <th>staff_id</th>\n",
       "      <th></th>\n",
       "    </tr>\n",
       "  </thead>\n",
       "  <tbody>\n",
       "    <tr>\n",
       "      <th rowspan=\"2\" valign=\"top\">8</th>\n",
       "      <th>1</th>\n",
       "      <td>4.988031e+07</td>\n",
       "    </tr>\n",
       "    <tr>\n",
       "      <th>5</th>\n",
       "      <td>4.882654e+07</td>\n",
       "    </tr>\n",
       "  </tbody>\n",
       "</table>\n",
       "</div>"
      ],
      "text/plain": [
       "                 sales_value\n",
       "month staff_id              \n",
       "8     1         4.988031e+07\n",
       "      5         4.882654e+07"
      ]
     },
     "execution_count": 25,
     "metadata": {},
     "output_type": "execute_result"
    }
   ],
   "source": [
    "aug.groupby(['month','staff_id']).sum().sort_values('sales_value',ascending=False).head(2)"
   ]
  },
  {
   "cell_type": "code",
   "execution_count": 27,
   "id": "d96f3757-19a6-4e49-8346-39c54ba76140",
   "metadata": {},
   "outputs": [
    {
     "data": {
      "text/html": [
       "<div>\n",
       "<style scoped>\n",
       "    .dataframe tbody tr th:only-of-type {\n",
       "        vertical-align: middle;\n",
       "    }\n",
       "\n",
       "    .dataframe tbody tr th {\n",
       "        vertical-align: top;\n",
       "    }\n",
       "\n",
       "    .dataframe thead th {\n",
       "        text-align: right;\n",
       "    }\n",
       "</style>\n",
       "<table border=\"1\" class=\"dataframe\">\n",
       "  <thead>\n",
       "    <tr style=\"text-align: right;\">\n",
       "      <th></th>\n",
       "      <th></th>\n",
       "      <th>sales_value</th>\n",
       "    </tr>\n",
       "    <tr>\n",
       "      <th>month</th>\n",
       "      <th>staff_id</th>\n",
       "      <th></th>\n",
       "    </tr>\n",
       "  </thead>\n",
       "  <tbody>\n",
       "    <tr>\n",
       "      <th rowspan=\"2\" valign=\"top\">9</th>\n",
       "      <th>2</th>\n",
       "      <td>4.982418e+07</td>\n",
       "    </tr>\n",
       "    <tr>\n",
       "      <th>7</th>\n",
       "      <td>4.952975e+07</td>\n",
       "    </tr>\n",
       "  </tbody>\n",
       "</table>\n",
       "</div>"
      ],
      "text/plain": [
       "                 sales_value\n",
       "month staff_id              \n",
       "9     2         4.982418e+07\n",
       "      7         4.952975e+07"
      ]
     },
     "execution_count": 27,
     "metadata": {},
     "output_type": "execute_result"
    }
   ],
   "source": [
    "sept.groupby(['month','staff_id']).sum().sort_values('sales_value',ascending=False).head(2)"
   ]
  },
  {
   "cell_type": "code",
   "execution_count": 28,
   "id": "6f1a5c17-5ab5-4cac-b9b2-363bb9a31e93",
   "metadata": {},
   "outputs": [
    {
     "data": {
      "text/html": [
       "<div>\n",
       "<style scoped>\n",
       "    .dataframe tbody tr th:only-of-type {\n",
       "        vertical-align: middle;\n",
       "    }\n",
       "\n",
       "    .dataframe tbody tr th {\n",
       "        vertical-align: top;\n",
       "    }\n",
       "\n",
       "    .dataframe thead th {\n",
       "        text-align: right;\n",
       "    }\n",
       "</style>\n",
       "<table border=\"1\" class=\"dataframe\">\n",
       "  <thead>\n",
       "    <tr style=\"text-align: right;\">\n",
       "      <th></th>\n",
       "      <th></th>\n",
       "      <th>sales_value</th>\n",
       "    </tr>\n",
       "    <tr>\n",
       "      <th>month</th>\n",
       "      <th>staff_id</th>\n",
       "      <th></th>\n",
       "    </tr>\n",
       "  </thead>\n",
       "  <tbody>\n",
       "    <tr>\n",
       "      <th rowspan=\"2\" valign=\"top\">10</th>\n",
       "      <th>8</th>\n",
       "      <td>5.629868e+07</td>\n",
       "    </tr>\n",
       "    <tr>\n",
       "      <th>5</th>\n",
       "      <td>5.323173e+07</td>\n",
       "    </tr>\n",
       "  </tbody>\n",
       "</table>\n",
       "</div>"
      ],
      "text/plain": [
       "                 sales_value\n",
       "month staff_id              \n",
       "10    8         5.629868e+07\n",
       "      5         5.323173e+07"
      ]
     },
     "execution_count": 28,
     "metadata": {},
     "output_type": "execute_result"
    }
   ],
   "source": [
    "october.groupby(['month','staff_id']).sum().sort_values('sales_value',ascending=False).head(2)"
   ]
  },
  {
   "cell_type": "code",
   "execution_count": 29,
   "id": "a3fdcdbd-ebb5-4388-99c3-12730ec074b3",
   "metadata": {},
   "outputs": [
    {
     "data": {
      "text/html": [
       "<div>\n",
       "<style scoped>\n",
       "    .dataframe tbody tr th:only-of-type {\n",
       "        vertical-align: middle;\n",
       "    }\n",
       "\n",
       "    .dataframe tbody tr th {\n",
       "        vertical-align: top;\n",
       "    }\n",
       "\n",
       "    .dataframe thead th {\n",
       "        text-align: right;\n",
       "    }\n",
       "</style>\n",
       "<table border=\"1\" class=\"dataframe\">\n",
       "  <thead>\n",
       "    <tr style=\"text-align: right;\">\n",
       "      <th></th>\n",
       "      <th></th>\n",
       "      <th>sales_value</th>\n",
       "    </tr>\n",
       "    <tr>\n",
       "      <th>month</th>\n",
       "      <th>staff_id</th>\n",
       "      <th></th>\n",
       "    </tr>\n",
       "  </thead>\n",
       "  <tbody>\n",
       "    <tr>\n",
       "      <th rowspan=\"2\" valign=\"top\">11</th>\n",
       "      <th>6</th>\n",
       "      <td>4.827074e+07</td>\n",
       "    </tr>\n",
       "    <tr>\n",
       "      <th>1</th>\n",
       "      <td>4.820159e+07</td>\n",
       "    </tr>\n",
       "  </tbody>\n",
       "</table>\n",
       "</div>"
      ],
      "text/plain": [
       "                 sales_value\n",
       "month staff_id              \n",
       "11    6         4.827074e+07\n",
       "      1         4.820159e+07"
      ]
     },
     "execution_count": 29,
     "metadata": {},
     "output_type": "execute_result"
    }
   ],
   "source": [
    "nov.groupby(['month','staff_id']).sum().sort_values('sales_value',ascending=False).head(2)"
   ]
  },
  {
   "cell_type": "code",
   "execution_count": 30,
   "id": "dd9c59c2-355e-4ba0-bcde-e5d80d5b462f",
   "metadata": {},
   "outputs": [
    {
     "data": {
      "text/html": [
       "<div>\n",
       "<style scoped>\n",
       "    .dataframe tbody tr th:only-of-type {\n",
       "        vertical-align: middle;\n",
       "    }\n",
       "\n",
       "    .dataframe tbody tr th {\n",
       "        vertical-align: top;\n",
       "    }\n",
       "\n",
       "    .dataframe thead th {\n",
       "        text-align: right;\n",
       "    }\n",
       "</style>\n",
       "<table border=\"1\" class=\"dataframe\">\n",
       "  <thead>\n",
       "    <tr style=\"text-align: right;\">\n",
       "      <th></th>\n",
       "      <th></th>\n",
       "      <th>sales_value</th>\n",
       "    </tr>\n",
       "    <tr>\n",
       "      <th>month</th>\n",
       "      <th>staff_id</th>\n",
       "      <th></th>\n",
       "    </tr>\n",
       "  </thead>\n",
       "  <tbody>\n",
       "    <tr>\n",
       "      <th rowspan=\"2\" valign=\"top\">12</th>\n",
       "      <th>5</th>\n",
       "      <td>4.733602e+07</td>\n",
       "    </tr>\n",
       "    <tr>\n",
       "      <th>4</th>\n",
       "      <td>4.599187e+07</td>\n",
       "    </tr>\n",
       "  </tbody>\n",
       "</table>\n",
       "</div>"
      ],
      "text/plain": [
       "                 sales_value\n",
       "month staff_id              \n",
       "12    5         4.733602e+07\n",
       "      4         4.599187e+07"
      ]
     },
     "execution_count": 30,
     "metadata": {},
     "output_type": "execute_result"
    }
   ],
   "source": [
    "dec.groupby(['month','staff_id']).sum().sort_values('sales_value',ascending=False).head(2)"
   ]
  },
  {
   "cell_type": "markdown",
   "id": "8fd2ad99-4b53-4c74-8ec0-c70f544ee6ad",
   "metadata": {},
   "source": [
    "##### For January, it is Staff_id 1\n",
    "##### For Febuary, it is Staff_id 7\n",
    "##### For March, it is Staff_id 7\n",
    "##### For April, it is Staff_id 4\n",
    "##### For May, it is Staff_id 5\n",
    "##### For June, it is Staff_id 9\n",
    "##### For July, it is Staff_id 4\n",
    "##### For August, it is Staff_id 1\n",
    "##### For September, it is Staff_id 2\n",
    "##### For October, it is Staff_id 8\n",
    "##### For November, it is Staff_id 6\n",
    "##### For December, it is Staff_id 5"
   ]
  },
  {
   "cell_type": "markdown",
   "id": "8563fda6-d767-4d4c-999d-d1736593fd66",
   "metadata": {},
   "source": [
    "## Highest hour of the day by average transaction volume"
   ]
  },
  {
   "cell_type": "code",
   "execution_count": 31,
   "id": "1073435d-2e3c-4ef3-b1bd-f052995d12e1",
   "metadata": {},
   "outputs": [],
   "source": [
    "combined_df=pd.DataFrame()"
   ]
  },
  {
   "cell_type": "code",
   "execution_count": 32,
   "id": "4a0e24f4-9f89-4ee3-9e64-f7f91fadf7d2",
   "metadata": {},
   "outputs": [],
   "source": [
    "# Read through all the files, save the timedate and value columns in a dataframe called combined_df\n",
    "for file in files:\n",
    "    df=pd.read_csv(f\"C:/Users/Chisom/Documents/Moniepoint/test-case-1/{file}\",delimiter=',', header=None)\n",
    "    df=df[[1,3]]\n",
    "    df.rename(columns={1:'timedate',3:'sales_value'},inplace=True)\n",
    "    combined_df=pd.concat([combined_df,df],ignore_index=True)"
   ]
  },
  {
   "cell_type": "code",
   "execution_count": 33,
   "id": "0b3d3d07-2ffb-4986-a9ba-5b0a438e4009",
   "metadata": {},
   "outputs": [
    {
     "data": {
      "text/html": [
       "<div>\n",
       "<style scoped>\n",
       "    .dataframe tbody tr th:only-of-type {\n",
       "        vertical-align: middle;\n",
       "    }\n",
       "\n",
       "    .dataframe tbody tr th {\n",
       "        vertical-align: top;\n",
       "    }\n",
       "\n",
       "    .dataframe thead th {\n",
       "        text-align: right;\n",
       "    }\n",
       "</style>\n",
       "<table border=\"1\" class=\"dataframe\">\n",
       "  <thead>\n",
       "    <tr style=\"text-align: right;\">\n",
       "      <th></th>\n",
       "      <th>timedate</th>\n",
       "      <th>sales_value</th>\n",
       "    </tr>\n",
       "  </thead>\n",
       "  <tbody>\n",
       "    <tr>\n",
       "      <th>0</th>\n",
       "      <td>2025-01-01T14:56:52</td>\n",
       "      <td>30160.973</td>\n",
       "    </tr>\n",
       "    <tr>\n",
       "      <th>1</th>\n",
       "      <td>2025-01-01T13:23:13</td>\n",
       "      <td>21115.795</td>\n",
       "    </tr>\n",
       "    <tr>\n",
       "      <th>2</th>\n",
       "      <td>2025-01-01T09:08:29</td>\n",
       "      <td>29430.205</td>\n",
       "    </tr>\n",
       "    <tr>\n",
       "      <th>3</th>\n",
       "      <td>2025-01-01T15:24:51</td>\n",
       "      <td>71913.089</td>\n",
       "    </tr>\n",
       "    <tr>\n",
       "      <th>4</th>\n",
       "      <td>2025-01-01T11:09:53</td>\n",
       "      <td>21153.156</td>\n",
       "    </tr>\n",
       "  </tbody>\n",
       "</table>\n",
       "</div>"
      ],
      "text/plain": [
       "              timedate  sales_value\n",
       "0  2025-01-01T14:56:52    30160.973\n",
       "1  2025-01-01T13:23:13    21115.795\n",
       "2  2025-01-01T09:08:29    29430.205\n",
       "3  2025-01-01T15:24:51    71913.089\n",
       "4  2025-01-01T11:09:53    21153.156"
      ]
     },
     "execution_count": 33,
     "metadata": {},
     "output_type": "execute_result"
    }
   ],
   "source": [
    "combined_df.head()"
   ]
  },
  {
   "cell_type": "code",
   "execution_count": 34,
   "id": "54ba7ddd-eb87-420e-9473-872281b4950d",
   "metadata": {},
   "outputs": [],
   "source": [
    "# making a new column called hour by extracting the hour from the timedate col\n",
    "combined_df['hour']=combined_df['timedate'].str[11:13].astype(int)"
   ]
  },
  {
   "cell_type": "code",
   "execution_count": 35,
   "id": "e4e96661-63da-43d9-b774-dbaf98a68ef0",
   "metadata": {},
   "outputs": [
    {
     "data": {
      "text/html": [
       "<div>\n",
       "<style scoped>\n",
       "    .dataframe tbody tr th:only-of-type {\n",
       "        vertical-align: middle;\n",
       "    }\n",
       "\n",
       "    .dataframe tbody tr th {\n",
       "        vertical-align: top;\n",
       "    }\n",
       "\n",
       "    .dataframe thead th {\n",
       "        text-align: right;\n",
       "    }\n",
       "</style>\n",
       "<table border=\"1\" class=\"dataframe\">\n",
       "  <thead>\n",
       "    <tr style=\"text-align: right;\">\n",
       "      <th></th>\n",
       "      <th>sales_value</th>\n",
       "    </tr>\n",
       "    <tr>\n",
       "      <th>hour</th>\n",
       "      <th></th>\n",
       "    </tr>\n",
       "  </thead>\n",
       "  <tbody>\n",
       "    <tr>\n",
       "      <th>8</th>\n",
       "      <td>25085.421679</td>\n",
       "    </tr>\n",
       "    <tr>\n",
       "      <th>9</th>\n",
       "      <td>25295.291374</td>\n",
       "    </tr>\n",
       "    <tr>\n",
       "      <th>10</th>\n",
       "      <td>25184.526550</td>\n",
       "    </tr>\n",
       "    <tr>\n",
       "      <th>11</th>\n",
       "      <td>25208.543381</td>\n",
       "    </tr>\n",
       "    <tr>\n",
       "      <th>12</th>\n",
       "      <td>25285.714724</td>\n",
       "    </tr>\n",
       "    <tr>\n",
       "      <th>13</th>\n",
       "      <td>25021.116805</td>\n",
       "    </tr>\n",
       "    <tr>\n",
       "      <th>14</th>\n",
       "      <td>25025.753242</td>\n",
       "    </tr>\n",
       "    <tr>\n",
       "      <th>15</th>\n",
       "      <td>25162.128240</td>\n",
       "    </tr>\n",
       "    <tr>\n",
       "      <th>16</th>\n",
       "      <td>25415.989050</td>\n",
       "    </tr>\n",
       "  </tbody>\n",
       "</table>\n",
       "</div>"
      ],
      "text/plain": [
       "       sales_value\n",
       "hour              \n",
       "8     25085.421679\n",
       "9     25295.291374\n",
       "10    25184.526550\n",
       "11    25208.543381\n",
       "12    25285.714724\n",
       "13    25021.116805\n",
       "14    25025.753242\n",
       "15    25162.128240\n",
       "16    25415.989050"
      ]
     },
     "execution_count": 35,
     "metadata": {},
     "output_type": "execute_result"
    }
   ],
   "source": [
    "# Grouping each hour by the average sales\n",
    "sales_by_hour=combined_df[['sales_value','hour']].groupby('hour').mean()\n",
    "sales_by_hour"
   ]
  },
  {
   "cell_type": "markdown",
   "id": "ce8e78aa-216f-4585-8b42-21d0ff0179ea",
   "metadata": {},
   "source": [
    "#### 16 Hours has the highest average transaction volume"
   ]
  },
  {
   "cell_type": "code",
   "execution_count": 36,
   "id": "c5033fd7-c192-446b-8db1-dd3c42238524",
   "metadata": {},
   "outputs": [
    {
     "data": {
      "text/html": [
       "<div>\n",
       "<style scoped>\n",
       "    .dataframe tbody tr th:only-of-type {\n",
       "        vertical-align: middle;\n",
       "    }\n",
       "\n",
       "    .dataframe tbody tr th {\n",
       "        vertical-align: top;\n",
       "    }\n",
       "\n",
       "    .dataframe thead th {\n",
       "        text-align: right;\n",
       "    }\n",
       "</style>\n",
       "<table border=\"1\" class=\"dataframe\">\n",
       "  <thead>\n",
       "    <tr style=\"text-align: right;\">\n",
       "      <th></th>\n",
       "      <th>sales_value</th>\n",
       "    </tr>\n",
       "    <tr>\n",
       "      <th>hour</th>\n",
       "      <th></th>\n",
       "    </tr>\n",
       "  </thead>\n",
       "  <tbody>\n",
       "    <tr>\n",
       "      <th>16</th>\n",
       "      <td>25415.989050</td>\n",
       "    </tr>\n",
       "    <tr>\n",
       "      <th>9</th>\n",
       "      <td>25295.291374</td>\n",
       "    </tr>\n",
       "  </tbody>\n",
       "</table>\n",
       "</div>"
      ],
      "text/plain": [
       "       sales_value\n",
       "hour              \n",
       "16    25415.989050\n",
       "9     25295.291374"
      ]
     },
     "execution_count": 36,
     "metadata": {},
     "output_type": "execute_result"
    }
   ],
   "source": [
    "# Sort the sales value so the biggest value is top\n",
    "sales_by_hour.sort_values('sales_value',ascending=False).head(2)"
   ]
  },
  {
   "cell_type": "code",
   "execution_count": null,
   "id": "70bef932-46e4-43d6-a9c9-6fbbe5e44b65",
   "metadata": {},
   "outputs": [],
   "source": []
  }
 ],
 "metadata": {
  "kernelspec": {
   "display_name": "Python 3 (ipykernel)",
   "language": "python",
   "name": "python3"
  },
  "language_info": {
   "codemirror_mode": {
    "name": "ipython",
    "version": 3
   },
   "file_extension": ".py",
   "mimetype": "text/x-python",
   "name": "python",
   "nbconvert_exporter": "python",
   "pygments_lexer": "ipython3",
   "version": "3.13.2"
  }
 },
 "nbformat": 4,
 "nbformat_minor": 5
}
