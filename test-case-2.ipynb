{
 "cells": [
  {
   "cell_type": "code",
   "execution_count": 10,
   "id": "86551df9-726a-42a0-96e4-2a2b26480a06",
   "metadata": {},
   "outputs": [],
   "source": [
    "import os\n",
    "import pandas as pd\n",
    "import numpy as np"
   ]
  },
  {
   "cell_type": "code",
   "execution_count": 11,
   "id": "78265bed-aa88-41fb-9683-556c7a6cab3d",
   "metadata": {},
   "outputs": [],
   "source": [
    "dir_path='C:/Users/Chisom/Documents/Moniepoint/test-case-2'\n",
    "files=os.listdir(dir_path)"
   ]
  },
  {
   "cell_type": "markdown",
   "id": "59a99a5a-a411-4da9-a8fe-08437b291931",
   "metadata": {},
   "source": [
    "## 1) Highest sales volume in a day"
   ]
  },
  {
   "cell_type": "code",
   "execution_count": 12,
   "id": "ca2289da-3bae-4f6c-aac6-9e90d6b314af",
   "metadata": {},
   "outputs": [],
   "source": [
    "sales_vol=[]"
   ]
  },
  {
   "cell_type": "code",
   "execution_count": 13,
   "id": "39c4b881-7a14-4833-88b4-9399ca9c6cc0",
   "metadata": {},
   "outputs": [],
   "source": [
    "# Find the len of each file, each line corresponds to the number of sales that day and append each instance to the sales_vol list\n",
    "for file in files:\n",
    "    df=pd.read_csv(f\"C:/Users/Chisom/Documents/Moniepoint/test-case-2/{file}\",delimiter=',', header=None)\n",
    "    sales_vol_value=len(df)\n",
    "    sales_vol.append(sales_vol_value)"
   ]
  },
  {
   "cell_type": "code",
   "execution_count": 14,
   "id": "35bc61d2-47a3-4a64-b3db-3af81cb144f9",
   "metadata": {},
   "outputs": [],
   "source": [
    "# Get a dataframe mapping the files to their sales volume (len)\n",
    "sales_vol_df=pd.DataFrame({'Date':files,'Sales_vol':sales_vol})"
   ]
  },
  {
   "cell_type": "markdown",
   "id": "c022a099-709a-41be-b434-c337904c63cf",
   "metadata": {},
   "source": [
    "#### 2025-10-16 is the day with the highest sales volume, with 999 sales that day"
   ]
  },
  {
   "cell_type": "code",
   "execution_count": 15,
   "id": "9fb25f51-0615-4f8d-8437-dc8e98dd3587",
   "metadata": {},
   "outputs": [
    {
     "data": {
      "text/html": [
       "<div>\n",
       "<style scoped>\n",
       "    .dataframe tbody tr th:only-of-type {\n",
       "        vertical-align: middle;\n",
       "    }\n",
       "\n",
       "    .dataframe tbody tr th {\n",
       "        vertical-align: top;\n",
       "    }\n",
       "\n",
       "    .dataframe thead th {\n",
       "        text-align: right;\n",
       "    }\n",
       "</style>\n",
       "<table border=\"1\" class=\"dataframe\">\n",
       "  <thead>\n",
       "    <tr style=\"text-align: right;\">\n",
       "      <th></th>\n",
       "      <th>Date</th>\n",
       "      <th>Sales_vol</th>\n",
       "    </tr>\n",
       "  </thead>\n",
       "  <tbody>\n",
       "    <tr>\n",
       "      <th>288</th>\n",
       "      <td>2025-10-16.txt</td>\n",
       "      <td>998</td>\n",
       "    </tr>\n",
       "    <tr>\n",
       "      <th>289</th>\n",
       "      <td>2025-10-17.txt</td>\n",
       "      <td>998</td>\n",
       "    </tr>\n",
       "  </tbody>\n",
       "</table>\n",
       "</div>"
      ],
      "text/plain": [
       "               Date  Sales_vol\n",
       "288  2025-10-16.txt        998\n",
       "289  2025-10-17.txt        998"
      ]
     },
     "execution_count": 15,
     "metadata": {},
     "output_type": "execute_result"
    }
   ],
   "source": [
    "# Sort the sales volume so the biggest value is top\n",
    "sales_vol_df.sort_values('Sales_vol',ascending=False).head(2)"
   ]
  },
  {
   "cell_type": "markdown",
   "id": "f78c2954-4b2e-4716-a681-78a84eb7b95e",
   "metadata": {},
   "source": [
    "## 2)Highest sales value in a day"
   ]
  },
  {
   "cell_type": "code",
   "execution_count": 16,
   "id": "5d91ba3c-1c4d-4b77-ad20-5f31165195fb",
   "metadata": {},
   "outputs": [],
   "source": [
    "sales_value=[]"
   ]
  },
  {
   "cell_type": "code",
   "execution_count": 17,
   "id": "82f96550-44ee-4e36-945d-777dc9437966",
   "metadata": {},
   "outputs": [],
   "source": [
    "# For each day, get the sales value column and then get the total sales value for that day and then save to the sales_value list\n",
    "for file in files:\n",
    "    df=pd.read_csv(f\"C:/Users/Chisom/Documents/Moniepoint/test-case-2/{file}\",delimiter=',', header=None)\n",
    "    sales_value_col=list(df[3])\n",
    "    total_value=sum(sales_value_col)\n",
    "    sales_value.append(total_value)"
   ]
  },
  {
   "cell_type": "code",
   "execution_count": 18,
   "id": "7d08d3fc-734b-4f63-aa1a-d10f680c653f",
   "metadata": {},
   "outputs": [],
   "source": [
    "# Get a dataframe mapping the files (each day) to their sales value\n",
    "sales_value_df=pd.DataFrame({'Date':files,'Sales_value':sales_value})"
   ]
  },
  {
   "cell_type": "markdown",
   "id": "fefe91f3-16c5-4e04-94e6-270d81222182",
   "metadata": {},
   "source": [
    "#### 2025-10-16 is the day with the highest sales value worth about 25534190"
   ]
  },
  {
   "cell_type": "code",
   "execution_count": 19,
   "id": "ed8421f2-2722-4714-8735-85a5d6b05009",
   "metadata": {},
   "outputs": [
    {
     "data": {
      "text/html": [
       "<div>\n",
       "<style scoped>\n",
       "    .dataframe tbody tr th:only-of-type {\n",
       "        vertical-align: middle;\n",
       "    }\n",
       "\n",
       "    .dataframe tbody tr th {\n",
       "        vertical-align: top;\n",
       "    }\n",
       "\n",
       "    .dataframe thead th {\n",
       "        text-align: right;\n",
       "    }\n",
       "</style>\n",
       "<table border=\"1\" class=\"dataframe\">\n",
       "  <thead>\n",
       "    <tr style=\"text-align: right;\">\n",
       "      <th></th>\n",
       "      <th>Date</th>\n",
       "      <th>Sales_value</th>\n",
       "    </tr>\n",
       "  </thead>\n",
       "  <tbody>\n",
       "    <tr>\n",
       "      <th>288</th>\n",
       "      <td>2025-10-16.txt</td>\n",
       "      <td>2.553419e+07</td>\n",
       "    </tr>\n",
       "    <tr>\n",
       "      <th>289</th>\n",
       "      <td>2025-10-17.txt</td>\n",
       "      <td>2.553419e+07</td>\n",
       "    </tr>\n",
       "  </tbody>\n",
       "</table>\n",
       "</div>"
      ],
      "text/plain": [
       "               Date   Sales_value\n",
       "288  2025-10-16.txt  2.553419e+07\n",
       "289  2025-10-17.txt  2.553419e+07"
      ]
     },
     "execution_count": 19,
     "metadata": {},
     "output_type": "execute_result"
    }
   ],
   "source": [
    "# Sort the sales volume so the biggest value is top\n",
    "sales_value_df.sort_values('Sales_value',ascending=False).head(2)"
   ]
  },
  {
   "cell_type": "markdown",
   "id": "cd6cb881-6150-4edd-b5e5-392ff560642f",
   "metadata": {},
   "source": [
    "## 4) Highest sales staff ID for each month"
   ]
  },
  {
   "cell_type": "code",
   "execution_count": 39,
   "id": "635eb242-685d-429d-8474-59e76f448a29",
   "metadata": {},
   "outputs": [],
   "source": [
    "staff_sales_df=pd.DataFrame()"
   ]
  },
  {
   "cell_type": "code",
   "execution_count": 40,
   "id": "50e7739d-b19d-4c2a-9870-ae41e3abed62",
   "metadata": {},
   "outputs": [],
   "source": [
    "# Read the staff_id,timedate and sales value into one dataframe\n",
    "for file in files:\n",
    "    df=pd.read_csv(f\"C:/Users/Chisom/Documents/Moniepoint/test-case-2/{file}\",delimiter=',', header=None)\n",
    "    df=df[[0,1,3]]\n",
    "    df.rename(columns={0:'staff_id',1:'timedate',3:'sales_value'},inplace=True)\n",
    "    staff_sales_df=pd.concat([staff_sales_df,df],ignore_index=True)"
   ]
  },
  {
   "cell_type": "code",
   "execution_count": 41,
   "id": "11e5b1ac-d71c-4305-a36e-06383c5b75cc",
   "metadata": {},
   "outputs": [],
   "source": [
    "# Extracting the month column from the timedate column, then I drop the timedate column\n",
    "staff_sales_df['month']=staff_sales_df['timedate'].str[5:7].astype(int)\n",
    "staff_sales_df=staff_sales_df[['staff_id','sales_value','month']]"
   ]
  },
  {
   "cell_type": "code",
   "execution_count": 42,
   "id": "ca736d5b-6613-479a-aba3-db9ce5910b93",
   "metadata": {},
   "outputs": [
    {
     "data": {
      "text/html": [
       "<div>\n",
       "<style scoped>\n",
       "    .dataframe tbody tr th:only-of-type {\n",
       "        vertical-align: middle;\n",
       "    }\n",
       "\n",
       "    .dataframe tbody tr th {\n",
       "        vertical-align: top;\n",
       "    }\n",
       "\n",
       "    .dataframe thead th {\n",
       "        text-align: right;\n",
       "    }\n",
       "</style>\n",
       "<table border=\"1\" class=\"dataframe\">\n",
       "  <thead>\n",
       "    <tr style=\"text-align: right;\">\n",
       "      <th></th>\n",
       "      <th>staff_id</th>\n",
       "      <th>sales_value</th>\n",
       "      <th>month</th>\n",
       "    </tr>\n",
       "  </thead>\n",
       "  <tbody>\n",
       "    <tr>\n",
       "      <th>0</th>\n",
       "      <td>9</td>\n",
       "      <td>5676.010</td>\n",
       "      <td>1</td>\n",
       "    </tr>\n",
       "    <tr>\n",
       "      <th>1</th>\n",
       "      <td>9</td>\n",
       "      <td>39642.009</td>\n",
       "      <td>1</td>\n",
       "    </tr>\n",
       "    <tr>\n",
       "      <th>2</th>\n",
       "      <td>9</td>\n",
       "      <td>39427.691</td>\n",
       "      <td>1</td>\n",
       "    </tr>\n",
       "    <tr>\n",
       "      <th>3</th>\n",
       "      <td>1</td>\n",
       "      <td>56270.937</td>\n",
       "      <td>1</td>\n",
       "    </tr>\n",
       "    <tr>\n",
       "      <th>4</th>\n",
       "      <td>7</td>\n",
       "      <td>21779.759</td>\n",
       "      <td>1</td>\n",
       "    </tr>\n",
       "    <tr>\n",
       "      <th>...</th>\n",
       "      <td>...</td>\n",
       "      <td>...</td>\n",
       "      <td>...</td>\n",
       "    </tr>\n",
       "    <tr>\n",
       "      <th>206797</th>\n",
       "      <td>3</td>\n",
       "      <td>55103.410</td>\n",
       "      <td>12</td>\n",
       "    </tr>\n",
       "    <tr>\n",
       "      <th>206798</th>\n",
       "      <td>1</td>\n",
       "      <td>6757.362</td>\n",
       "      <td>12</td>\n",
       "    </tr>\n",
       "    <tr>\n",
       "      <th>206799</th>\n",
       "      <td>7</td>\n",
       "      <td>56635.424</td>\n",
       "      <td>12</td>\n",
       "    </tr>\n",
       "    <tr>\n",
       "      <th>206800</th>\n",
       "      <td>9</td>\n",
       "      <td>12011.401</td>\n",
       "      <td>12</td>\n",
       "    </tr>\n",
       "    <tr>\n",
       "      <th>206801</th>\n",
       "      <td>4</td>\n",
       "      <td>24990.700</td>\n",
       "      <td>12</td>\n",
       "    </tr>\n",
       "  </tbody>\n",
       "</table>\n",
       "<p>206802 rows × 3 columns</p>\n",
       "</div>"
      ],
      "text/plain": [
       "        staff_id  sales_value  month\n",
       "0              9     5676.010      1\n",
       "1              9    39642.009      1\n",
       "2              9    39427.691      1\n",
       "3              1    56270.937      1\n",
       "4              7    21779.759      1\n",
       "...          ...          ...    ...\n",
       "206797         3    55103.410     12\n",
       "206798         1     6757.362     12\n",
       "206799         7    56635.424     12\n",
       "206800         9    12011.401     12\n",
       "206801         4    24990.700     12\n",
       "\n",
       "[206802 rows x 3 columns]"
      ]
     },
     "execution_count": 42,
     "metadata": {},
     "output_type": "execute_result"
    }
   ],
   "source": [
    "staff_sales_df"
   ]
  },
  {
   "cell_type": "code",
   "execution_count": 43,
   "id": "421b3c18-96c5-4490-bc4b-f511fd908688",
   "metadata": {},
   "outputs": [],
   "source": [
    "# Making smaller dataframes corresponding to the appropriate months\n",
    "jan=staff_sales_df.loc[staff_sales_df['month']==1]\n",
    "feb=staff_sales_df.loc[staff_sales_df['month']==2]\n",
    "mar=staff_sales_df.loc[staff_sales_df['month']==3]\n",
    "apr=staff_sales_df.loc[staff_sales_df['month']==4]\n",
    "may=staff_sales_df.loc[staff_sales_df['month']==5]\n",
    "june=staff_sales_df.loc[staff_sales_df['month']==6]\n",
    "july=staff_sales_df.loc[staff_sales_df['month']==7]\n",
    "aug=staff_sales_df.loc[staff_sales_df['month']==8]\n",
    "sept=staff_sales_df.loc[staff_sales_df['month']==9]\n",
    "october=staff_sales_df.loc[staff_sales_df['month']==10]\n",
    "nov=staff_sales_df.loc[staff_sales_df['month']==11]\n",
    "dec=staff_sales_df.loc[staff_sales_df['month']==12]"
   ]
  },
  {
   "cell_type": "code",
   "execution_count": 44,
   "id": "68397889-2b28-47da-b266-aa0c5b516516",
   "metadata": {},
   "outputs": [
    {
     "data": {
      "text/html": [
       "<div>\n",
       "<style scoped>\n",
       "    .dataframe tbody tr th:only-of-type {\n",
       "        vertical-align: middle;\n",
       "    }\n",
       "\n",
       "    .dataframe tbody tr th {\n",
       "        vertical-align: top;\n",
       "    }\n",
       "\n",
       "    .dataframe thead th {\n",
       "        text-align: right;\n",
       "    }\n",
       "</style>\n",
       "<table border=\"1\" class=\"dataframe\">\n",
       "  <thead>\n",
       "    <tr style=\"text-align: right;\">\n",
       "      <th></th>\n",
       "      <th></th>\n",
       "      <th>sales_value</th>\n",
       "    </tr>\n",
       "    <tr>\n",
       "      <th>month</th>\n",
       "      <th>staff_id</th>\n",
       "      <th></th>\n",
       "    </tr>\n",
       "  </thead>\n",
       "  <tbody>\n",
       "    <tr>\n",
       "      <th rowspan=\"2\" valign=\"top\">1</th>\n",
       "      <th>8</th>\n",
       "      <td>4.842825e+07</td>\n",
       "    </tr>\n",
       "    <tr>\n",
       "      <th>5</th>\n",
       "      <td>4.772984e+07</td>\n",
       "    </tr>\n",
       "  </tbody>\n",
       "</table>\n",
       "</div>"
      ],
      "text/plain": [
       "                 sales_value\n",
       "month staff_id              \n",
       "1     8         4.842825e+07\n",
       "      5         4.772984e+07"
      ]
     },
     "execution_count": 44,
     "metadata": {},
     "output_type": "execute_result"
    }
   ],
   "source": [
    "jan.groupby(['month','staff_id']).sum().sort_values('sales_value',ascending=False).head(2)"
   ]
  },
  {
   "cell_type": "code",
   "execution_count": 45,
   "id": "0e624350-9147-4374-aefe-0e0fdc725c52",
   "metadata": {},
   "outputs": [
    {
     "data": {
      "text/html": [
       "<div>\n",
       "<style scoped>\n",
       "    .dataframe tbody tr th:only-of-type {\n",
       "        vertical-align: middle;\n",
       "    }\n",
       "\n",
       "    .dataframe tbody tr th {\n",
       "        vertical-align: top;\n",
       "    }\n",
       "\n",
       "    .dataframe thead th {\n",
       "        text-align: right;\n",
       "    }\n",
       "</style>\n",
       "<table border=\"1\" class=\"dataframe\">\n",
       "  <thead>\n",
       "    <tr style=\"text-align: right;\">\n",
       "      <th></th>\n",
       "      <th></th>\n",
       "      <th>sales_value</th>\n",
       "    </tr>\n",
       "    <tr>\n",
       "      <th>month</th>\n",
       "      <th>staff_id</th>\n",
       "      <th></th>\n",
       "    </tr>\n",
       "  </thead>\n",
       "  <tbody>\n",
       "    <tr>\n",
       "      <th rowspan=\"2\" valign=\"top\">2</th>\n",
       "      <th>5</th>\n",
       "      <td>4.845637e+07</td>\n",
       "    </tr>\n",
       "    <tr>\n",
       "      <th>6</th>\n",
       "      <td>4.773301e+07</td>\n",
       "    </tr>\n",
       "  </tbody>\n",
       "</table>\n",
       "</div>"
      ],
      "text/plain": [
       "                 sales_value\n",
       "month staff_id              \n",
       "2     5         4.845637e+07\n",
       "      6         4.773301e+07"
      ]
     },
     "execution_count": 45,
     "metadata": {},
     "output_type": "execute_result"
    }
   ],
   "source": [
    "feb.groupby(['month','staff_id']).sum().sort_values('sales_value',ascending=False).head(2)"
   ]
  },
  {
   "cell_type": "code",
   "execution_count": 46,
   "id": "6a4452bf-10ec-47e9-9dad-c89657746c18",
   "metadata": {},
   "outputs": [
    {
     "data": {
      "text/html": [
       "<div>\n",
       "<style scoped>\n",
       "    .dataframe tbody tr th:only-of-type {\n",
       "        vertical-align: middle;\n",
       "    }\n",
       "\n",
       "    .dataframe tbody tr th {\n",
       "        vertical-align: top;\n",
       "    }\n",
       "\n",
       "    .dataframe thead th {\n",
       "        text-align: right;\n",
       "    }\n",
       "</style>\n",
       "<table border=\"1\" class=\"dataframe\">\n",
       "  <thead>\n",
       "    <tr style=\"text-align: right;\">\n",
       "      <th></th>\n",
       "      <th></th>\n",
       "      <th>sales_value</th>\n",
       "    </tr>\n",
       "    <tr>\n",
       "      <th>month</th>\n",
       "      <th>staff_id</th>\n",
       "      <th></th>\n",
       "    </tr>\n",
       "  </thead>\n",
       "  <tbody>\n",
       "    <tr>\n",
       "      <th rowspan=\"2\" valign=\"top\">3</th>\n",
       "      <th>8</th>\n",
       "      <td>4.841053e+07</td>\n",
       "    </tr>\n",
       "    <tr>\n",
       "      <th>6</th>\n",
       "      <td>4.742988e+07</td>\n",
       "    </tr>\n",
       "  </tbody>\n",
       "</table>\n",
       "</div>"
      ],
      "text/plain": [
       "                 sales_value\n",
       "month staff_id              \n",
       "3     8         4.841053e+07\n",
       "      6         4.742988e+07"
      ]
     },
     "execution_count": 46,
     "metadata": {},
     "output_type": "execute_result"
    }
   ],
   "source": [
    "mar.groupby(['month','staff_id']).sum().sort_values('sales_value',ascending=False).head(2)"
   ]
  },
  {
   "cell_type": "code",
   "execution_count": 47,
   "id": "644675da-4684-4db1-b556-7c3a77e36244",
   "metadata": {},
   "outputs": [
    {
     "data": {
      "text/html": [
       "<div>\n",
       "<style scoped>\n",
       "    .dataframe tbody tr th:only-of-type {\n",
       "        vertical-align: middle;\n",
       "    }\n",
       "\n",
       "    .dataframe tbody tr th {\n",
       "        vertical-align: top;\n",
       "    }\n",
       "\n",
       "    .dataframe thead th {\n",
       "        text-align: right;\n",
       "    }\n",
       "</style>\n",
       "<table border=\"1\" class=\"dataframe\">\n",
       "  <thead>\n",
       "    <tr style=\"text-align: right;\">\n",
       "      <th></th>\n",
       "      <th></th>\n",
       "      <th>sales_value</th>\n",
       "    </tr>\n",
       "    <tr>\n",
       "      <th>month</th>\n",
       "      <th>staff_id</th>\n",
       "      <th></th>\n",
       "    </tr>\n",
       "  </thead>\n",
       "  <tbody>\n",
       "    <tr>\n",
       "      <th rowspan=\"2\" valign=\"top\">4</th>\n",
       "      <th>3</th>\n",
       "      <td>5.401765e+07</td>\n",
       "    </tr>\n",
       "    <tr>\n",
       "      <th>6</th>\n",
       "      <td>5.327325e+07</td>\n",
       "    </tr>\n",
       "  </tbody>\n",
       "</table>\n",
       "</div>"
      ],
      "text/plain": [
       "                 sales_value\n",
       "month staff_id              \n",
       "4     3         5.401765e+07\n",
       "      6         5.327325e+07"
      ]
     },
     "execution_count": 47,
     "metadata": {},
     "output_type": "execute_result"
    }
   ],
   "source": [
    "apr.groupby(['month','staff_id']).sum().sort_values('sales_value',ascending=False).head(2)"
   ]
  },
  {
   "cell_type": "code",
   "execution_count": 48,
   "id": "5554f5c2-046c-43e0-a7f3-863c5b561ea3",
   "metadata": {},
   "outputs": [
    {
     "data": {
      "text/html": [
       "<div>\n",
       "<style scoped>\n",
       "    .dataframe tbody tr th:only-of-type {\n",
       "        vertical-align: middle;\n",
       "    }\n",
       "\n",
       "    .dataframe tbody tr th {\n",
       "        vertical-align: top;\n",
       "    }\n",
       "\n",
       "    .dataframe thead th {\n",
       "        text-align: right;\n",
       "    }\n",
       "</style>\n",
       "<table border=\"1\" class=\"dataframe\">\n",
       "  <thead>\n",
       "    <tr style=\"text-align: right;\">\n",
       "      <th></th>\n",
       "      <th></th>\n",
       "      <th>sales_value</th>\n",
       "    </tr>\n",
       "    <tr>\n",
       "      <th>month</th>\n",
       "      <th>staff_id</th>\n",
       "      <th></th>\n",
       "    </tr>\n",
       "  </thead>\n",
       "  <tbody>\n",
       "    <tr>\n",
       "      <th rowspan=\"2\" valign=\"top\">5</th>\n",
       "      <th>8</th>\n",
       "      <td>4.767256e+07</td>\n",
       "    </tr>\n",
       "    <tr>\n",
       "      <th>4</th>\n",
       "      <td>4.735927e+07</td>\n",
       "    </tr>\n",
       "  </tbody>\n",
       "</table>\n",
       "</div>"
      ],
      "text/plain": [
       "                 sales_value\n",
       "month staff_id              \n",
       "5     8         4.767256e+07\n",
       "      4         4.735927e+07"
      ]
     },
     "execution_count": 48,
     "metadata": {},
     "output_type": "execute_result"
    }
   ],
   "source": [
    "may.groupby(['month','staff_id']).sum().sort_values('sales_value',ascending=False).head(2)"
   ]
  },
  {
   "cell_type": "code",
   "execution_count": 49,
   "id": "8908c5fb-da7d-44c2-b0e9-2f44ef5a53f3",
   "metadata": {},
   "outputs": [
    {
     "data": {
      "text/html": [
       "<div>\n",
       "<style scoped>\n",
       "    .dataframe tbody tr th:only-of-type {\n",
       "        vertical-align: middle;\n",
       "    }\n",
       "\n",
       "    .dataframe tbody tr th {\n",
       "        vertical-align: top;\n",
       "    }\n",
       "\n",
       "    .dataframe thead th {\n",
       "        text-align: right;\n",
       "    }\n",
       "</style>\n",
       "<table border=\"1\" class=\"dataframe\">\n",
       "  <thead>\n",
       "    <tr style=\"text-align: right;\">\n",
       "      <th></th>\n",
       "      <th></th>\n",
       "      <th>sales_value</th>\n",
       "    </tr>\n",
       "    <tr>\n",
       "      <th>month</th>\n",
       "      <th>staff_id</th>\n",
       "      <th></th>\n",
       "    </tr>\n",
       "  </thead>\n",
       "  <tbody>\n",
       "    <tr>\n",
       "      <th rowspan=\"2\" valign=\"top\">6</th>\n",
       "      <th>2</th>\n",
       "      <td>4.900210e+07</td>\n",
       "    </tr>\n",
       "    <tr>\n",
       "      <th>9</th>\n",
       "      <td>4.893058e+07</td>\n",
       "    </tr>\n",
       "  </tbody>\n",
       "</table>\n",
       "</div>"
      ],
      "text/plain": [
       "                 sales_value\n",
       "month staff_id              \n",
       "6     2         4.900210e+07\n",
       "      9         4.893058e+07"
      ]
     },
     "execution_count": 49,
     "metadata": {},
     "output_type": "execute_result"
    }
   ],
   "source": [
    "june.groupby(['month','staff_id']).sum().sort_values('sales_value',ascending=False).head(2)"
   ]
  },
  {
   "cell_type": "code",
   "execution_count": 50,
   "id": "89fcb918-df63-4aab-983e-6ae5bd5abc7b",
   "metadata": {},
   "outputs": [
    {
     "data": {
      "text/html": [
       "<div>\n",
       "<style scoped>\n",
       "    .dataframe tbody tr th:only-of-type {\n",
       "        vertical-align: middle;\n",
       "    }\n",
       "\n",
       "    .dataframe tbody tr th {\n",
       "        vertical-align: top;\n",
       "    }\n",
       "\n",
       "    .dataframe thead th {\n",
       "        text-align: right;\n",
       "    }\n",
       "</style>\n",
       "<table border=\"1\" class=\"dataframe\">\n",
       "  <thead>\n",
       "    <tr style=\"text-align: right;\">\n",
       "      <th></th>\n",
       "      <th></th>\n",
       "      <th>sales_value</th>\n",
       "    </tr>\n",
       "    <tr>\n",
       "      <th>month</th>\n",
       "      <th>staff_id</th>\n",
       "      <th></th>\n",
       "    </tr>\n",
       "  </thead>\n",
       "  <tbody>\n",
       "    <tr>\n",
       "      <th rowspan=\"2\" valign=\"top\">7</th>\n",
       "      <th>6</th>\n",
       "      <td>5.526785e+07</td>\n",
       "    </tr>\n",
       "    <tr>\n",
       "      <th>2</th>\n",
       "      <td>5.427256e+07</td>\n",
       "    </tr>\n",
       "  </tbody>\n",
       "</table>\n",
       "</div>"
      ],
      "text/plain": [
       "                 sales_value\n",
       "month staff_id              \n",
       "7     6         5.526785e+07\n",
       "      2         5.427256e+07"
      ]
     },
     "execution_count": 50,
     "metadata": {},
     "output_type": "execute_result"
    }
   ],
   "source": [
    "july.groupby(['month','staff_id']).sum().sort_values('sales_value',ascending=False).head(2)"
   ]
  },
  {
   "cell_type": "code",
   "execution_count": 51,
   "id": "2bba2d96-0124-4ec6-8985-3218382c05c1",
   "metadata": {},
   "outputs": [
    {
     "data": {
      "text/html": [
       "<div>\n",
       "<style scoped>\n",
       "    .dataframe tbody tr th:only-of-type {\n",
       "        vertical-align: middle;\n",
       "    }\n",
       "\n",
       "    .dataframe tbody tr th {\n",
       "        vertical-align: top;\n",
       "    }\n",
       "\n",
       "    .dataframe thead th {\n",
       "        text-align: right;\n",
       "    }\n",
       "</style>\n",
       "<table border=\"1\" class=\"dataframe\">\n",
       "  <thead>\n",
       "    <tr style=\"text-align: right;\">\n",
       "      <th></th>\n",
       "      <th></th>\n",
       "      <th>sales_value</th>\n",
       "    </tr>\n",
       "    <tr>\n",
       "      <th>month</th>\n",
       "      <th>staff_id</th>\n",
       "      <th></th>\n",
       "    </tr>\n",
       "  </thead>\n",
       "  <tbody>\n",
       "    <tr>\n",
       "      <th rowspan=\"2\" valign=\"top\">8</th>\n",
       "      <th>3</th>\n",
       "      <td>5.545404e+07</td>\n",
       "    </tr>\n",
       "    <tr>\n",
       "      <th>1</th>\n",
       "      <td>5.215691e+07</td>\n",
       "    </tr>\n",
       "  </tbody>\n",
       "</table>\n",
       "</div>"
      ],
      "text/plain": [
       "                 sales_value\n",
       "month staff_id              \n",
       "8     3         5.545404e+07\n",
       "      1         5.215691e+07"
      ]
     },
     "execution_count": 51,
     "metadata": {},
     "output_type": "execute_result"
    }
   ],
   "source": [
    "aug.groupby(['month','staff_id']).sum().sort_values('sales_value',ascending=False).head(2)"
   ]
  },
  {
   "cell_type": "code",
   "execution_count": 52,
   "id": "f1b7dfc5-12a6-4b59-8a13-a4cdf9a9b3eb",
   "metadata": {},
   "outputs": [
    {
     "data": {
      "text/html": [
       "<div>\n",
       "<style scoped>\n",
       "    .dataframe tbody tr th:only-of-type {\n",
       "        vertical-align: middle;\n",
       "    }\n",
       "\n",
       "    .dataframe tbody tr th {\n",
       "        vertical-align: top;\n",
       "    }\n",
       "\n",
       "    .dataframe thead th {\n",
       "        text-align: right;\n",
       "    }\n",
       "</style>\n",
       "<table border=\"1\" class=\"dataframe\">\n",
       "  <thead>\n",
       "    <tr style=\"text-align: right;\">\n",
       "      <th></th>\n",
       "      <th></th>\n",
       "      <th>sales_value</th>\n",
       "    </tr>\n",
       "    <tr>\n",
       "      <th>month</th>\n",
       "      <th>staff_id</th>\n",
       "      <th></th>\n",
       "    </tr>\n",
       "  </thead>\n",
       "  <tbody>\n",
       "    <tr>\n",
       "      <th rowspan=\"2\" valign=\"top\">9</th>\n",
       "      <th>7</th>\n",
       "      <td>5.110134e+07</td>\n",
       "    </tr>\n",
       "    <tr>\n",
       "      <th>9</th>\n",
       "      <td>5.079136e+07</td>\n",
       "    </tr>\n",
       "  </tbody>\n",
       "</table>\n",
       "</div>"
      ],
      "text/plain": [
       "                 sales_value\n",
       "month staff_id              \n",
       "9     7         5.110134e+07\n",
       "      9         5.079136e+07"
      ]
     },
     "execution_count": 52,
     "metadata": {},
     "output_type": "execute_result"
    }
   ],
   "source": [
    "sept.groupby(['month','staff_id']).sum().sort_values('sales_value',ascending=False).head(2)"
   ]
  },
  {
   "cell_type": "code",
   "execution_count": 53,
   "id": "1c7e0b22-5a3b-4c59-99b1-ff1d0ba51698",
   "metadata": {},
   "outputs": [
    {
     "data": {
      "text/html": [
       "<div>\n",
       "<style scoped>\n",
       "    .dataframe tbody tr th:only-of-type {\n",
       "        vertical-align: middle;\n",
       "    }\n",
       "\n",
       "    .dataframe tbody tr th {\n",
       "        vertical-align: top;\n",
       "    }\n",
       "\n",
       "    .dataframe thead th {\n",
       "        text-align: right;\n",
       "    }\n",
       "</style>\n",
       "<table border=\"1\" class=\"dataframe\">\n",
       "  <thead>\n",
       "    <tr style=\"text-align: right;\">\n",
       "      <th></th>\n",
       "      <th></th>\n",
       "      <th>sales_value</th>\n",
       "    </tr>\n",
       "    <tr>\n",
       "      <th>month</th>\n",
       "      <th>staff_id</th>\n",
       "      <th></th>\n",
       "    </tr>\n",
       "  </thead>\n",
       "  <tbody>\n",
       "    <tr>\n",
       "      <th rowspan=\"2\" valign=\"top\">10</th>\n",
       "      <th>2</th>\n",
       "      <td>4.494699e+07</td>\n",
       "    </tr>\n",
       "    <tr>\n",
       "      <th>1</th>\n",
       "      <td>4.442056e+07</td>\n",
       "    </tr>\n",
       "  </tbody>\n",
       "</table>\n",
       "</div>"
      ],
      "text/plain": [
       "                 sales_value\n",
       "month staff_id              \n",
       "10    2         4.494699e+07\n",
       "      1         4.442056e+07"
      ]
     },
     "execution_count": 53,
     "metadata": {},
     "output_type": "execute_result"
    }
   ],
   "source": [
    "october.groupby(['month','staff_id']).sum().sort_values('sales_value',ascending=False).head(2)"
   ]
  },
  {
   "cell_type": "code",
   "execution_count": 54,
   "id": "4238a5fe-723c-45d3-afec-d5ae26473ea6",
   "metadata": {},
   "outputs": [
    {
     "data": {
      "text/html": [
       "<div>\n",
       "<style scoped>\n",
       "    .dataframe tbody tr th:only-of-type {\n",
       "        vertical-align: middle;\n",
       "    }\n",
       "\n",
       "    .dataframe tbody tr th {\n",
       "        vertical-align: top;\n",
       "    }\n",
       "\n",
       "    .dataframe thead th {\n",
       "        text-align: right;\n",
       "    }\n",
       "</style>\n",
       "<table border=\"1\" class=\"dataframe\">\n",
       "  <thead>\n",
       "    <tr style=\"text-align: right;\">\n",
       "      <th></th>\n",
       "      <th></th>\n",
       "      <th>sales_value</th>\n",
       "    </tr>\n",
       "    <tr>\n",
       "      <th>month</th>\n",
       "      <th>staff_id</th>\n",
       "      <th></th>\n",
       "    </tr>\n",
       "  </thead>\n",
       "  <tbody>\n",
       "    <tr>\n",
       "      <th rowspan=\"2\" valign=\"top\">11</th>\n",
       "      <th>7</th>\n",
       "      <td>4.665479e+07</td>\n",
       "    </tr>\n",
       "    <tr>\n",
       "      <th>5</th>\n",
       "      <td>4.618192e+07</td>\n",
       "    </tr>\n",
       "  </tbody>\n",
       "</table>\n",
       "</div>"
      ],
      "text/plain": [
       "                 sales_value\n",
       "month staff_id              \n",
       "11    7         4.665479e+07\n",
       "      5         4.618192e+07"
      ]
     },
     "execution_count": 54,
     "metadata": {},
     "output_type": "execute_result"
    }
   ],
   "source": [
    "nov.groupby(['month','staff_id']).sum().sort_values('sales_value',ascending=False).head(2)"
   ]
  },
  {
   "cell_type": "code",
   "execution_count": 55,
   "id": "eaf882b9-5e9a-4b7d-ad11-1736958986ca",
   "metadata": {},
   "outputs": [
    {
     "data": {
      "text/html": [
       "<div>\n",
       "<style scoped>\n",
       "    .dataframe tbody tr th:only-of-type {\n",
       "        vertical-align: middle;\n",
       "    }\n",
       "\n",
       "    .dataframe tbody tr th {\n",
       "        vertical-align: top;\n",
       "    }\n",
       "\n",
       "    .dataframe thead th {\n",
       "        text-align: right;\n",
       "    }\n",
       "</style>\n",
       "<table border=\"1\" class=\"dataframe\">\n",
       "  <thead>\n",
       "    <tr style=\"text-align: right;\">\n",
       "      <th></th>\n",
       "      <th></th>\n",
       "      <th>sales_value</th>\n",
       "    </tr>\n",
       "    <tr>\n",
       "      <th>month</th>\n",
       "      <th>staff_id</th>\n",
       "      <th></th>\n",
       "    </tr>\n",
       "  </thead>\n",
       "  <tbody>\n",
       "    <tr>\n",
       "      <th rowspan=\"2\" valign=\"top\">12</th>\n",
       "      <th>1</th>\n",
       "      <td>4.921916e+07</td>\n",
       "    </tr>\n",
       "    <tr>\n",
       "      <th>2</th>\n",
       "      <td>4.673122e+07</td>\n",
       "    </tr>\n",
       "  </tbody>\n",
       "</table>\n",
       "</div>"
      ],
      "text/plain": [
       "                 sales_value\n",
       "month staff_id              \n",
       "12    1         4.921916e+07\n",
       "      2         4.673122e+07"
      ]
     },
     "execution_count": 55,
     "metadata": {},
     "output_type": "execute_result"
    }
   ],
   "source": [
    "dec.groupby(['month','staff_id']).sum().sort_values('sales_value',ascending=False).head(2)"
   ]
  },
  {
   "cell_type": "markdown",
   "id": "2e230a93-5bdf-4ccb-b785-85a215ee1f9b",
   "metadata": {},
   "source": [
    "##### For January, it is Staff_id 8\n",
    "##### For Febuary, it is Staff_id 5\n",
    "##### For March, it is Staff_id 8\n",
    "##### For April, it is Staff_id 3\n",
    "##### For May, it is Staff_id 8\n",
    "##### For June, it is Staff_id 2\n",
    "##### For July, it is Staff_id 6\n",
    "##### For August, it is Staff_id 3\n",
    "##### For September, it is Staff_id 7\n",
    "##### For October, it is Staff_id 2\n",
    "##### For November, it is Staff_id 7\n",
    "##### For December, it is Staff_id 1"
   ]
  },
  {
   "cell_type": "markdown",
   "id": "c91bf03b-bc06-4218-b692-b3e63987b438",
   "metadata": {},
   "source": [
    "## 5) Highest hour of the day by average transaction volume"
   ]
  },
  {
   "cell_type": "code",
   "execution_count": 56,
   "id": "3070759c-5357-4683-b0b4-72ef35213a32",
   "metadata": {},
   "outputs": [],
   "source": [
    "combined_df=pd.DataFrame()"
   ]
  },
  {
   "cell_type": "code",
   "execution_count": 57,
   "id": "6f7c3b63-91be-47b5-85a2-0b112e60645e",
   "metadata": {},
   "outputs": [],
   "source": [
    "# Read through all the files, save the timedate and value columns in a dataframe called combined_df\n",
    "for file in files:\n",
    "    df=pd.read_csv(f\"C:/Users/Chisom/Documents/Moniepoint/test-case-2/{file}\",delimiter=',', header=None)\n",
    "    df=df[[1,3]]\n",
    "    df.rename(columns={1:'timedate',3:'sales_value'},inplace=True)\n",
    "    combined_df=pd.concat([combined_df,df],ignore_index=True)"
   ]
  },
  {
   "cell_type": "code",
   "execution_count": 58,
   "id": "abb4470c-eae6-4320-9185-e0d82b9ae9c2",
   "metadata": {},
   "outputs": [
    {
     "data": {
      "text/html": [
       "<div>\n",
       "<style scoped>\n",
       "    .dataframe tbody tr th:only-of-type {\n",
       "        vertical-align: middle;\n",
       "    }\n",
       "\n",
       "    .dataframe tbody tr th {\n",
       "        vertical-align: top;\n",
       "    }\n",
       "\n",
       "    .dataframe thead th {\n",
       "        text-align: right;\n",
       "    }\n",
       "</style>\n",
       "<table border=\"1\" class=\"dataframe\">\n",
       "  <thead>\n",
       "    <tr style=\"text-align: right;\">\n",
       "      <th></th>\n",
       "      <th>timedate</th>\n",
       "      <th>sales_value</th>\n",
       "    </tr>\n",
       "  </thead>\n",
       "  <tbody>\n",
       "    <tr>\n",
       "      <th>0</th>\n",
       "      <td>2025-01-01T12:40:45</td>\n",
       "      <td>5676.010</td>\n",
       "    </tr>\n",
       "    <tr>\n",
       "      <th>1</th>\n",
       "      <td>2025-01-01T09:17:54</td>\n",
       "      <td>39642.009</td>\n",
       "    </tr>\n",
       "    <tr>\n",
       "      <th>2</th>\n",
       "      <td>2025-01-01T09:57:57</td>\n",
       "      <td>39427.691</td>\n",
       "    </tr>\n",
       "    <tr>\n",
       "      <th>3</th>\n",
       "      <td>2025-01-01T14:53:13</td>\n",
       "      <td>56270.937</td>\n",
       "    </tr>\n",
       "    <tr>\n",
       "      <th>4</th>\n",
       "      <td>2025-01-01T08:55:33</td>\n",
       "      <td>21779.759</td>\n",
       "    </tr>\n",
       "  </tbody>\n",
       "</table>\n",
       "</div>"
      ],
      "text/plain": [
       "              timedate  sales_value\n",
       "0  2025-01-01T12:40:45     5676.010\n",
       "1  2025-01-01T09:17:54    39642.009\n",
       "2  2025-01-01T09:57:57    39427.691\n",
       "3  2025-01-01T14:53:13    56270.937\n",
       "4  2025-01-01T08:55:33    21779.759"
      ]
     },
     "execution_count": 58,
     "metadata": {},
     "output_type": "execute_result"
    }
   ],
   "source": [
    "combined_df.head()"
   ]
  },
  {
   "cell_type": "code",
   "execution_count": 59,
   "id": "7710a20f-3ad5-4944-b281-f40372741d7c",
   "metadata": {},
   "outputs": [],
   "source": [
    "# making a new column called hour by extracting the hour from the timedate col\n",
    "combined_df['hour']=combined_df['timedate'].str[11:13].astype(int)"
   ]
  },
  {
   "cell_type": "code",
   "execution_count": 60,
   "id": "25807ec3-5454-4d48-be33-4bf4215cfd02",
   "metadata": {},
   "outputs": [
    {
     "data": {
      "text/html": [
       "<div>\n",
       "<style scoped>\n",
       "    .dataframe tbody tr th:only-of-type {\n",
       "        vertical-align: middle;\n",
       "    }\n",
       "\n",
       "    .dataframe tbody tr th {\n",
       "        vertical-align: top;\n",
       "    }\n",
       "\n",
       "    .dataframe thead th {\n",
       "        text-align: right;\n",
       "    }\n",
       "</style>\n",
       "<table border=\"1\" class=\"dataframe\">\n",
       "  <thead>\n",
       "    <tr style=\"text-align: right;\">\n",
       "      <th></th>\n",
       "      <th>sales_value</th>\n",
       "    </tr>\n",
       "    <tr>\n",
       "      <th>hour</th>\n",
       "      <th></th>\n",
       "    </tr>\n",
       "  </thead>\n",
       "  <tbody>\n",
       "    <tr>\n",
       "      <th>8</th>\n",
       "      <td>25049.492474</td>\n",
       "    </tr>\n",
       "    <tr>\n",
       "      <th>9</th>\n",
       "      <td>24917.123519</td>\n",
       "    </tr>\n",
       "    <tr>\n",
       "      <th>10</th>\n",
       "      <td>25018.690451</td>\n",
       "    </tr>\n",
       "    <tr>\n",
       "      <th>11</th>\n",
       "      <td>24963.829520</td>\n",
       "    </tr>\n",
       "    <tr>\n",
       "      <th>12</th>\n",
       "      <td>24971.308157</td>\n",
       "    </tr>\n",
       "    <tr>\n",
       "      <th>13</th>\n",
       "      <td>24989.459363</td>\n",
       "    </tr>\n",
       "    <tr>\n",
       "      <th>14</th>\n",
       "      <td>24974.363410</td>\n",
       "    </tr>\n",
       "    <tr>\n",
       "      <th>15</th>\n",
       "      <td>25056.656781</td>\n",
       "    </tr>\n",
       "    <tr>\n",
       "      <th>16</th>\n",
       "      <td>25073.627296</td>\n",
       "    </tr>\n",
       "  </tbody>\n",
       "</table>\n",
       "</div>"
      ],
      "text/plain": [
       "       sales_value\n",
       "hour              \n",
       "8     25049.492474\n",
       "9     24917.123519\n",
       "10    25018.690451\n",
       "11    24963.829520\n",
       "12    24971.308157\n",
       "13    24989.459363\n",
       "14    24974.363410\n",
       "15    25056.656781\n",
       "16    25073.627296"
      ]
     },
     "execution_count": 60,
     "metadata": {},
     "output_type": "execute_result"
    }
   ],
   "source": [
    "# Grouping each hour by the average sales\n",
    "sales_by_hour=combined_df[['sales_value','hour']].groupby('hour').mean()\n",
    "sales_by_hour"
   ]
  },
  {
   "cell_type": "markdown",
   "id": "b44e8373-3628-4e47-b1c4-5054840fe15d",
   "metadata": {},
   "source": [
    "#### 16 Hours has the highest average transaction volume"
   ]
  },
  {
   "cell_type": "code",
   "execution_count": 61,
   "id": "d20ca60c-fbe2-4252-8aed-8ff9a77e07f8",
   "metadata": {
    "jupyter": {
     "source_hidden": true
    }
   },
   "outputs": [
    {
     "data": {
      "text/html": [
       "<div>\n",
       "<style scoped>\n",
       "    .dataframe tbody tr th:only-of-type {\n",
       "        vertical-align: middle;\n",
       "    }\n",
       "\n",
       "    .dataframe tbody tr th {\n",
       "        vertical-align: top;\n",
       "    }\n",
       "\n",
       "    .dataframe thead th {\n",
       "        text-align: right;\n",
       "    }\n",
       "</style>\n",
       "<table border=\"1\" class=\"dataframe\">\n",
       "  <thead>\n",
       "    <tr style=\"text-align: right;\">\n",
       "      <th></th>\n",
       "      <th>sales_value</th>\n",
       "    </tr>\n",
       "    <tr>\n",
       "      <th>hour</th>\n",
       "      <th></th>\n",
       "    </tr>\n",
       "  </thead>\n",
       "  <tbody>\n",
       "    <tr>\n",
       "      <th>16</th>\n",
       "      <td>25073.627296</td>\n",
       "    </tr>\n",
       "    <tr>\n",
       "      <th>15</th>\n",
       "      <td>25056.656781</td>\n",
       "    </tr>\n",
       "  </tbody>\n",
       "</table>\n",
       "</div>"
      ],
      "text/plain": [
       "       sales_value\n",
       "hour              \n",
       "16    25073.627296\n",
       "15    25056.656781"
      ]
     },
     "execution_count": 61,
     "metadata": {},
     "output_type": "execute_result"
    }
   ],
   "source": [
    "# Sort the sales value so the biggest value is top\n",
    "sales_by_hour.sort_values('sales_value',ascending=False).head(2)"
   ]
  },
  {
   "cell_type": "code",
   "execution_count": null,
   "id": "01b575d4-aca1-44a7-8a13-1c57ce0b8c32",
   "metadata": {},
   "outputs": [],
   "source": []
  }
 ],
 "metadata": {
  "kernelspec": {
   "display_name": "Python 3 (ipykernel)",
   "language": "python",
   "name": "python3"
  },
  "language_info": {
   "codemirror_mode": {
    "name": "ipython",
    "version": 3
   },
   "file_extension": ".py",
   "mimetype": "text/x-python",
   "name": "python",
   "nbconvert_exporter": "python",
   "pygments_lexer": "ipython3",
   "version": "3.13.2"
  }
 },
 "nbformat": 4,
 "nbformat_minor": 5
}
